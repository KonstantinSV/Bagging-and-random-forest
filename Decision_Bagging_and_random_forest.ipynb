{
  "nbformat": 4,
  "nbformat_minor": 0,
  "metadata": {
    "colab": {
      "name": "Decision Bagging and random forest",
      "provenance": [],
      "collapsed_sections": [],
      "authorship_tag": "ABX9TyPlzO+9qOX9qdqf+6y+mCbE",
      "include_colab_link": true
    },
    "kernelspec": {
      "name": "python3",
      "display_name": "Python 3"
    }
  },
  "cells": [
    {
      "cell_type": "markdown",
      "metadata": {
        "id": "view-in-github",
        "colab_type": "text"
      },
      "source": [
        "<a href=\"https://colab.research.google.com/github/KonstantinSV/Bagging-and-random-forest/blob/main/Decision_Bagging_and_random_forest.ipynb\" target=\"_parent\"><img src=\"https://colab.research.google.com/assets/colab-badge.svg\" alt=\"Open In Colab\"/></a>"
      ]
    },
    {
      "cell_type": "code",
      "metadata": {
        "id": "enZIR_rxWPV3"
      },
      "source": [
        "from sklearn import model_selection, datasets, metrics, tree, ensemble\n",
        "from math import sqrt\n",
        "import numpy as np\n",
        "from matplotlib import pyplot as plt"
      ],
      "execution_count": null,
      "outputs": []
    },
    {
      "cell_type": "markdown",
      "metadata": {
        "id": "Lpe1KVd6IQVd"
      },
      "source": [
        "Создайте DecisionTreeClassifier с настройками по умолчанию и измерьте качество его работы с помощью cross_val_score."
      ]
    },
    {
      "cell_type": "code",
      "metadata": {
        "id": "28fraGXkWnvX"
      },
      "source": [
        " digits = datasets.load_digits()\n",
        " X = digits.data\n",
        " y = digits.target"
      ],
      "execution_count": null,
      "outputs": []
    },
    {
      "cell_type": "code",
      "metadata": {
        "id": "UB65Yu3pJQfA"
      },
      "source": [
        "# классификатор из одного дерева\n",
        "clf = tree.DecisionTreeClassifier()"
      ],
      "execution_count": null,
      "outputs": []
    },
    {
      "cell_type": "code",
      "metadata": {
        "id": "Yq5Lrz7i7Fqr",
        "colab": {
          "base_uri": "https://localhost:8080/"
        },
        "outputId": "1adb3bb0-a642-47af-c1f9-695ae63849a6"
      },
      "source": [
        "# измерьте качество его работы с помощью cross_val_score\n",
        "scores = model_selection.cross_val_score(clf, X, y, cv = 10)\n",
        "scores.mean()"
      ],
      "execution_count": null,
      "outputs": [
        {
          "output_type": "execute_result",
          "data": {
            "text/plain": [
              "0.8269025450031038"
            ]
          },
          "metadata": {
            "tags": []
          },
          "execution_count": 4
        }
      ]
    },
    {
      "cell_type": "markdown",
      "metadata": {
        "id": "3nCTzrhsJYxZ"
      },
      "source": [
        "Обучить бэггинг над DecisionTreeClassifier."
      ]
    },
    {
      "cell_type": "code",
      "metadata": {
        "id": "s4riHy4IIXka"
      },
      "source": [
        "# обучение проходит на части объектов (признаков) по алгоритму бэггинга (BaggingClassifier). Ансамбль классификаторов из 100 деревьев\n",
        "ans_clf = ensemble.BaggingClassifier(n_estimators=100)"
      ],
      "execution_count": null,
      "outputs": []
    },
    {
      "cell_type": "code",
      "metadata": {
        "id": "X-ZmUaOaJJgj",
        "colab": {
          "base_uri": "https://localhost:8080/"
        },
        "outputId": "b931fa2c-0837-413f-ce5b-af23a707b5b0"
      },
      "source": [
        "scores = model_selection.cross_val_score(ans_clf, X, y, cv = 10)\n",
        "scores.mean()"
      ],
      "execution_count": null,
      "outputs": [
        {
          "output_type": "execute_result",
          "data": {
            "text/plain": [
              "0.9270639354438238"
            ]
          },
          "metadata": {
            "tags": []
          },
          "execution_count": 6
        }
      ]
    },
    {
      "cell_type": "markdown",
      "metadata": {
        "id": "EqIW9flEKfLf"
      },
      "source": [
        "Обучить каждый базовый алгоритм не на всех d признаках, а на  sqrt \n",
        "d случайных признаков. "
      ]
    },
    {
      "cell_type": "code",
      "metadata": {
        "id": "hViV35UuMqO7"
      },
      "source": [
        "# sqrt d случайных признаков\n",
        "number_of_features = int(sqrt(X.shape[1]))"
      ],
      "execution_count": null,
      "outputs": []
    },
    {
      "cell_type": "code",
      "metadata": {
        "id": "axpowxD2KHcR"
      },
      "source": [
        "ans_clf_2 = ensemble.BaggingClassifier(max_features = number_of_features, n_estimators=100)"
      ],
      "execution_count": null,
      "outputs": []
    },
    {
      "cell_type": "code",
      "metadata": {
        "id": "tcNQdLIOL--G",
        "colab": {
          "base_uri": "https://localhost:8080/"
        },
        "outputId": "b7af435e-495b-40a0-8f6c-bc69a09e4ff8"
      },
      "source": [
        "scores = model_selection.cross_val_score(ans_clf_2, X, y, cv = 10)\n",
        "scores.mean()"
      ],
      "execution_count": null,
      "outputs": [
        {
          "output_type": "execute_result",
          "data": {
            "text/plain": [
              "0.9287771570453135"
            ]
          },
          "metadata": {
            "tags": []
          },
          "execution_count": 9
        }
      ]
    },
    {
      "cell_type": "markdown",
      "metadata": {
        "id": "ueKtPPfqMZlr"
      },
      "source": [
        "Выбрать случайные признаки не один раз на все дерево, а при построении каждой вершины дерева. "
      ]
    },
    {
      "cell_type": "code",
      "metadata": {
        "id": "tXRnXEBWMePq"
      },
      "source": [
        "# одно дерево tree.DecisionTreeClassifier в ансамбле деревьев ensemble.BaggingClassifier\n",
        "ans_clf_3 = ensemble.BaggingClassifier(tree.DecisionTreeClassifier(max_features = number_of_features), n_estimators = 100)"
      ],
      "execution_count": null,
      "outputs": []
    },
    {
      "cell_type": "code",
      "metadata": {
        "id": "KC9IArmlObIh",
        "colab": {
          "base_uri": "https://localhost:8080/"
        },
        "outputId": "ee20a9da-7198-4c87-dc77-43031bea1337"
      },
      "source": [
        "scores = model_selection.cross_val_score(ans_clf_3, X, y, cv = 10)\n",
        "scores.mean()"
      ],
      "execution_count": null,
      "outputs": [
        {
          "output_type": "execute_result",
          "data": {
            "text/plain": [
              "0.9493575418994412"
            ]
          },
          "metadata": {
            "tags": []
          },
          "execution_count": 11
        }
      ]
    },
    {
      "cell_type": "markdown",
      "metadata": {
        "id": "IhzGicJmTU-A"
      },
      "source": [
        "То же самое что и ensemble.BaggingClassifier(tree.DecisionTreeClassifier()) но одной функцией RandomForestClassifier()"
      ]
    },
    {
      "cell_type": "code",
      "metadata": {
        "id": "Dy4uXeHvTVaG"
      },
      "source": [
        "rf = ensemble.RandomForestClassifier(n_estimators=100, max_features = number_of_features)"
      ],
      "execution_count": null,
      "outputs": []
    },
    {
      "cell_type": "code",
      "metadata": {
        "id": "bQP4IikzVloK",
        "colab": {
          "base_uri": "https://localhost:8080/"
        },
        "outputId": "7092ff84-55d9-43ac-f689-53606d651862"
      },
      "source": [
        "scores = model_selection.cross_val_score(rf, X, y, cv = 10)\n",
        "scores.mean()"
      ],
      "execution_count": null,
      "outputs": [
        {
          "output_type": "execute_result",
          "data": {
            "text/plain": [
              "0.9460024829298572"
            ]
          },
          "metadata": {
            "tags": []
          },
          "execution_count": 13
        }
      ]
    },
    {
      "cell_type": "markdown",
      "metadata": {
        "id": "E0CweM9cpPg0"
      },
      "source": [
        "Графики зависимости качества от значений параметров"
      ]
    },
    {
      "cell_type": "markdown",
      "metadata": {
        "id": "-ag8tInYWzZQ"
      },
      "source": [
        "Зависимость от количества деревьев"
      ]
    },
    {
      "cell_type": "code",
      "metadata": {
        "id": "bUtjmDhxo5tH"
      },
      "source": [
        "# sqrt d случайных признаков\n",
        "number_of_features = int(sqrt(X.shape[1]))"
      ],
      "execution_count": null,
      "outputs": []
    },
    {
      "cell_type": "code",
      "metadata": {
        "id": "710SCiQpWShK"
      },
      "source": [
        "number_of_estimators = np.arange(5, 150, 5) # количество деревьев\n",
        "scores_estimators = [] # средние оценки моделей, на каждом количестве деревьев\n",
        "for n in number_of_estimators:\n",
        "    clf = ensemble.RandomForestClassifier(n_estimators = n, max_features = number_of_features) # n_estimators - кол-во деревьев. max_features - количество признаков\n",
        "    scores_estimators.append(model_selection.cross_val_score(clf, X, y, cv = 10).mean()) # обучение и оценка по методу крос валидации с разбиением на 10 фолдов. Ответ берется средний по 10 ответам на каждом разбиении"
      ],
      "execution_count": null,
      "outputs": []
    },
    {
      "cell_type": "code",
      "metadata": {
        "id": "te1MIcu1WrXA",
        "colab": {
          "base_uri": "https://localhost:8080/",
          "height": 312
        },
        "outputId": "52c01515-d484-46c7-8f71-e27673632105"
      },
      "source": [
        "plt.plot(number_of_estimators, scores_estimators)\n",
        "plt.xlabel('number of trees')\n",
        "plt.ylabel('scores')\n",
        "plt.title('RandomForest score')"
      ],
      "execution_count": null,
      "outputs": [
        {
          "output_type": "execute_result",
          "data": {
            "text/plain": [
              "Text(0.5, 1.0, 'RandomForest score')"
            ]
          },
          "metadata": {
            "tags": []
          },
          "execution_count": 16
        },
        {
          "output_type": "display_data",
          "data": {
            "image/png": "[encoded data removed]",
            "text/plain": [
              "<Figure size 432x288 with 1 Axes>"
            ]
          },
          "metadata": {
            "tags": [],
            "needs_background": "light"
          }
        }
      ]
    },
    {
      "cell_type": "markdown",
      "metadata": {
        "id": "DdDXGEUzqsl8"
      },
      "source": [
        "Зависимость от количества признаков"
      ]
    },
    {
      "cell_type": "code",
      "metadata": {
        "id": "dJ6Wtv4kqxUw"
      },
      "source": [
        "d = X.shape[1] # количество признаков (столбцов)\n",
        "number_of_estimators = np.arange(5, d, 5) \n",
        "scores_features = [] # средние оценки моделей, на каждом количестве признаков (столбцов)\n",
        "for n in number_of_estimators:\n",
        "    clf = ensemble.RandomForestClassifier(n_estimators = 100, max_features = n)\n",
        "    scores_features.append(model_selection.cross_val_score(clf, X, y, cv = 10).mean())"
      ],
      "execution_count": null,
      "outputs": []
    },
    {
      "cell_type": "code",
      "metadata": {
        "id": "ZhxHa1YH4i5p",
        "colab": {
          "base_uri": "https://localhost:8080/",
          "height": 312
        },
        "outputId": "40594d12-6fa4-4781-ba51-586acbb85da8"
      },
      "source": [
        "plt.plot(number_of_estimators, scores_features)\n",
        "plt.xlabel('number of features')\n",
        "plt.ylabel('scores')\n",
        "plt.title('RandomForest score')"
      ],
      "execution_count": null,
      "outputs": [
        {
          "output_type": "execute_result",
          "data": {
            "text/plain": [
              "Text(0.5, 1.0, 'RandomForest score')"
            ]
          },
          "metadata": {
            "tags": []
          },
          "execution_count": 18
        },
        {
          "output_type": "display_data",
          "data": {
            "image/png": "[encoded data removed]",
            "text/plain": [
              "<Figure size 432x288 with 1 Axes>"
            ]
          },
          "metadata": {
            "tags": [],
            "needs_background": "light"
          }
        }
      ]
    },
    {
      "cell_type": "markdown",
      "metadata": {
        "id": "cQN8CZfv8TZa"
      },
      "source": [
        "Зависимость от глубины дерева"
      ]
    },
    {
      "cell_type": "code",
      "metadata": {
        "id": "cGUjnM6k8T5A"
      },
      "source": [
        "depth = np.arange(1, 50, 1) # глубина деревьев\n",
        "scores_depth = [] # средние оценки моделей, на каждой глубине дерева\n",
        "for n in depth:\n",
        "    clf = ensemble.RandomForestClassifier(n_estimators = 100, max_features = number_of_features, max_depth = n)\n",
        "    scores_depth.append(model_selection.cross_val_score(clf, X, y, cv = 10).mean())"
      ],
      "execution_count": null,
      "outputs": []
    },
    {
      "cell_type": "code",
      "metadata": {
        "id": "q8QVdv7a8VkI",
        "colab": {
          "base_uri": "https://localhost:8080/",
          "height": 312
        },
        "outputId": "b605ab5c-e62b-4aa8-d593-4d0666e33700"
      },
      "source": [
        "plt.plot(depth, scores_depth)\n",
        "plt.xlabel('number of depth')\n",
        "plt.ylabel('scores')\n",
        "plt.title('RandomForest score')"
      ],
      "execution_count": null,
      "outputs": [
        {
          "output_type": "execute_result",
          "data": {
            "text/plain": [
              "Text(0.5, 1.0, 'RandomForest score')"
            ]
          },
          "metadata": {
            "tags": []
          },
          "execution_count": 26
        },
        {
          "output_type": "display_data",
          "data": {
            "image/png": "[encoded data removed]",
            "text/plain": [
              "<Figure size 432x288 with 1 Axes>"
            ]
          },
          "metadata": {
            "tags": [],
            "needs_background": "light"
          }
        }
      ]
    },
    {
      "cell_type": "markdown",
      "metadata": {
        "id": "-pX51KCqAB1Z"
      },
      "source": [
        "Верные утверждения: 2, 3, 4, 7"
      ]
    },
    {
      "cell_type": "markdown",
      "metadata": {
        "id": "SUtnEzPp__yz"
      },
      "source": [
        "1.\n",
        "\n",
        "Создайте DecisionTreeClassifier с настройками по умолчанию и измерьте качество его работы с помощью cross_val_score. Эта величина и будет ответом в пункте 1.\n",
        "\n",
        "2.\n",
        "\n",
        "Воспользуйтесь BaggingClassifier из sklearn.ensemble, чтобы обучить бэггинг над DecisionTreeClassifier. Используйте в BaggingClassifier параметры по умолчанию, задав только количество деревьев равным 100.\n",
        "\n",
        "Качество классификации новой модели - ответ в пункте 2. Обратите внимание, как соотносится качество работы композиции решающих деревьев с качеством работы одного решающего дерева.\n",
        "\n",
        "3.\n",
        "\n",
        "Теперь изучите параметры BaggingClassifier и выберите их такими, чтобы каждый базовый алгоритм обучался не на всех d признаках, а на \\sqrt{d} \n",
        "d\n",
        "​\t\n",
        "  случайных признаков. Качество работы получившегося классификатора - ответ в пункте 3. Корень из числа признаков - часто используемая эвристика в задачах классификации, в задачах регрессии же часто берут число признаков, деленное на три. Но в общем случае ничто не мешает вам выбирать любое другое число случайных признаков.\n",
        "\n",
        "4.\n",
        "\n",
        "Наконец, давайте попробуем выбирать случайные признаки не один раз на все дерево, а при построении каждой вершины дерева. Сделать это несложно: нужно убрать выбор случайного подмножества признаков в BaggingClassifier и добавить его в DecisionTreeClassifier. Какой параметр за это отвечает, можно понять из документации sklearn, либо просто попробовать угадать (скорее всего, у вас сразу получится). Попробуйте выбирать опять же \\sqrt{d} \n",
        "d\n",
        "​\t\n",
        "  признаков. Качество полученного классификатора на контрольной выборке и будет ответом в пункте 4.\n",
        "\n",
        "5.\n",
        "\n",
        "Полученный в пункте 4 классификатор - бэггинг на рандомизированных деревьях (в которых при построении каждой вершины выбирается случайное подмножество признаков и разбиение ищется только по ним). Это в точности соответствует алгоритму Random Forest, поэтому почему бы не сравнить качество работы классификатора с RandomForestClassifier из sklearn.ensemble. Сделайте это, а затем изучите, как качество классификации на данном датасете зависит от количества деревьев, количества признаков, выбираемых при построении каждой вершины дерева, а также ограничений на глубину дерева. Для наглядности лучше построить графики зависимости качества от значений параметров, но для сдачи задания это делать не обязательно.\n",
        "\n",
        "На основе наблюдений выпишите через пробел номера правильных утверждений из приведенных ниже в порядке возрастания номера (это будет ответ в п.5)\n",
        "\n",
        "1) Случайный лес сильно переобучается с ростом количества деревьев\n",
        "\n",
        "2) При очень маленьком числе деревьев (5, 10, 15), случайный лес работает хуже, чем при большем числе деревьев\n",
        "\n",
        "3) С ростом количества деревьев в случайном лесе, в какой-то момент деревьев становится достаточно для высокого качества классификации, а затем качество существенно не меняется.\n",
        "\n",
        "4) При большом количестве признаков (для данного датасета - 40, 50) качество классификации становится хуже, чем при малом количестве признаков (5, 10). Это связано с тем, что чем меньше признаков выбирается в каждом узле, тем более различными получаются деревья (ведь деревья сильно неустойчивы к изменениям в обучающей выборке), и тем лучше работает их композиция.\n",
        "\n",
        "5) При большом количестве признаков (40, 50, 60) качество классификации лучше, чем при малом количестве признаков (5, 10). Это связано с тем, что чем больше признаков - тем больше информации об объектах, а значит алгоритм может делать прогнозы более точно.\n",
        "\n",
        "6) При небольшой максимальной глубине деревьев (5-6) качество работы случайного леса намного лучше, чем без ограничения глубины, т.к. деревья получаются не переобученными. С ростом глубины деревьев качество ухудшается.\n",
        "\n",
        "7) При небольшой максимальной глубине деревьев (5-6) качество работы случайного леса заметно хуже, чем без ограничений, т.к. деревья получаются недообученными. С ростом глубины качество сначала улучшается, а затем не меняется существенно, т.к. из-за усреднения прогнозов и различий деревьев их переобученность в бэггинге не сказывается на итоговом качестве (все деревья преобучены по-разному, и при усреднении они компенсируют переобученность друг-друга).\n",
        "\n",
        "Как отправить\n",
        "Когда работа будет готова, вы можете загрузить файлы для каждой части задания на вкладке 'Мои работы'."
      ]
    }
  ]
}